{
 "cells": [
  {
   "cell_type": "markdown",
   "id": "9c4b42fa-2322-48ed-9095-df241fdb2689",
   "metadata": {},
   "source": [
    "# Temperature Prediction\n",
    "\n",
    "## Objective\n",
    "Predict the **temperature** based on humidity data.\n"
   ]
  },
  {
   "cell_type": "markdown",
   "id": "3e2d7635-161e-4fb4-a737-32877031634f",
   "metadata": {},
   "source": [
    "## Dataset Overview\n",
    "The dataset contains hourly or daily readings of humidity and temperature.\n"
   ]
  },
  {
   "cell_type": "markdown",
   "id": "b2104fff-d17f-4490-8b2d-3c79d1e4122f",
   "metadata": {},
   "source": [
    "## Workflow\n",
    "1. Load the dataset  \n",
    "2. Explore and clean the data  \n",
    "3. Train a regression model  \n",
    "4. Evaluate predictions\n"
   ]
  },
  {
   "cell_type": "code",
   "execution_count": 2,
   "id": "8319acc8-7852-47a2-ad0e-6bc6de735922",
   "metadata": {},
   "outputs": [],
   "source": [
    "# Import required libraries\n",
    "import pandas as pd\n",
    "import numpy as np\n",
    "import matplotlib.pyplot as plt\n",
    "import seaborn as sns\n",
    "\n",
    "from sklearn.model_selection import train_test_split\n",
    "from sklearn.linear_model import LinearRegression\n",
    "from sklearn.metrics import mean_squared_error, r2_score"
   ]
  },
  {
   "cell_type": "code",
   "execution_count": 3,
   "id": "1a6f77ad-10c0-4c74-95c7-99ba7e4a704d",
   "metadata": {},
   "outputs": [
    {
     "name": "stdout",
     "output_type": "stream",
     "text": [
      "<class 'pandas.core.frame.DataFrame'>\n",
      "RangeIndex: 701548 entries, 0 to 701547\n",
      "Data columns (total 6 columns):\n",
      " #   Column       Non-Null Count   Dtype  \n",
      "---  ------       --------------   -----  \n",
      " 0   sensor_id    701548 non-null  int64  \n",
      " 1   lat          701548 non-null  float64\n",
      " 2   lon          701548 non-null  float64\n",
      " 3   pressure     701548 non-null  float64\n",
      " 4   temperature  701548 non-null  float64\n",
      " 5   humidity     701548 non-null  float64\n",
      "dtypes: float64(5), int64(1)\n",
      "memory usage: 32.1 MB\n"
     ]
    },
    {
     "data": {
      "text/html": [
       "<div>\n",
       "<style scoped>\n",
       "    .dataframe tbody tr th:only-of-type {\n",
       "        vertical-align: middle;\n",
       "    }\n",
       "\n",
       "    .dataframe tbody tr th {\n",
       "        vertical-align: top;\n",
       "    }\n",
       "\n",
       "    .dataframe thead th {\n",
       "        text-align: right;\n",
       "    }\n",
       "</style>\n",
       "<table border=\"1\" class=\"dataframe\">\n",
       "  <thead>\n",
       "    <tr style=\"text-align: right;\">\n",
       "      <th></th>\n",
       "      <th>sensor_id</th>\n",
       "      <th>lat</th>\n",
       "      <th>lon</th>\n",
       "      <th>pressure</th>\n",
       "      <th>temperature</th>\n",
       "      <th>humidity</th>\n",
       "    </tr>\n",
       "  </thead>\n",
       "  <tbody>\n",
       "    <tr>\n",
       "      <th>0</th>\n",
       "      <td>2266</td>\n",
       "      <td>42.738</td>\n",
       "      <td>23.272</td>\n",
       "      <td>95270.27</td>\n",
       "      <td>23.46</td>\n",
       "      <td>62.48</td>\n",
       "    </tr>\n",
       "    <tr>\n",
       "      <th>1</th>\n",
       "      <td>2292</td>\n",
       "      <td>42.663</td>\n",
       "      <td>23.273</td>\n",
       "      <td>94355.83</td>\n",
       "      <td>23.06</td>\n",
       "      <td>59.46</td>\n",
       "    </tr>\n",
       "    <tr>\n",
       "      <th>2</th>\n",
       "      <td>3096</td>\n",
       "      <td>42.700</td>\n",
       "      <td>23.360</td>\n",
       "      <td>95155.81</td>\n",
       "      <td>26.53</td>\n",
       "      <td>44.38</td>\n",
       "    </tr>\n",
       "    <tr>\n",
       "      <th>3</th>\n",
       "      <td>3428</td>\n",
       "      <td>42.624</td>\n",
       "      <td>23.406</td>\n",
       "      <td>94679.57</td>\n",
       "      <td>28.34</td>\n",
       "      <td>38.28</td>\n",
       "    </tr>\n",
       "    <tr>\n",
       "      <th>4</th>\n",
       "      <td>3472</td>\n",
       "      <td>42.669</td>\n",
       "      <td>23.318</td>\n",
       "      <td>94327.88</td>\n",
       "      <td>26.31</td>\n",
       "      <td>46.37</td>\n",
       "    </tr>\n",
       "  </tbody>\n",
       "</table>\n",
       "</div>"
      ],
      "text/plain": [
       "   sensor_id     lat     lon  pressure  temperature  humidity\n",
       "0       2266  42.738  23.272  95270.27        23.46     62.48\n",
       "1       2292  42.663  23.273  94355.83        23.06     59.46\n",
       "2       3096  42.700  23.360  95155.81        26.53     44.38\n",
       "3       3428  42.624  23.406  94679.57        28.34     38.28\n",
       "4       3472  42.669  23.318  94327.88        26.31     46.37"
      ]
     },
     "execution_count": 3,
     "metadata": {},
     "output_type": "execute_result"
    }
   ],
   "source": [
    "# Load the dataset\n",
    "df = pd.read_csv(\"humidity.csv\")\n",
    "df.info()\n",
    "df.head()"
   ]
  },
  {
   "cell_type": "markdown",
   "id": "cd1ea39e-7665-4767-9e04-52fe349b68d1",
   "metadata": {},
   "source": [
    "## Exploratory Data Analysis\n"
   ]
  },
  {
   "cell_type": "code",
   "execution_count": 4,
   "id": "744c26a9-aaaf-44e2-9479-c0f2193ed901",
   "metadata": {},
   "outputs": [
    {
     "name": "stdout",
     "output_type": "stream",
     "text": [
      "sensor_id      0\n",
      "lat            0\n",
      "lon            0\n",
      "pressure       0\n",
      "temperature    0\n",
      "humidity       0\n",
      "dtype: int64\n",
      "4035\n"
     ]
    }
   ],
   "source": [
    "# Check for missing values\n",
    "print(df.isnull().sum())\n",
    "print(df.duplicated().sum())"
   ]
  },
  {
   "cell_type": "code",
   "execution_count": 5,
   "id": "8b7abf91-6c04-43fc-b07e-bff1a7e3f13f",
   "metadata": {},
   "outputs": [
    {
     "data": {
      "image/png": "[encoded data removed]",
      "text/plain": [
       "<Figure size 640x480 with 2 Axes>"
      ]
     },
     "metadata": {},
     "output_type": "display_data"
    },
    {
     "data": {
      "text/plain": [
       "['sensor_id', 'lat', 'lon', 'pressure', 'temperature', 'humidity']"
      ]
     },
     "execution_count": 5,
     "metadata": {},
     "output_type": "execute_result"
    }
   ],
   "source": [
    "# Display summary statistics\n",
    "sns.heatmap(df.corr(),annot = True, cmap = 'coolwarm')\n",
    "plt.xlabel('Temperature')\n",
    "plt.ylabel('Pressure')\n",
    "plt.title('Heatmap')\n",
    "plt.show()\n",
    "df.columns.tolist()"
   ]
  },
  {
   "cell_type": "markdown",
   "id": "6268f42f-0c8a-4cb7-bcb8-673e960c9c62",
   "metadata": {},
   "source": [
    "## Data Preprocessing"
   ]
  },
  {
   "cell_type": "code",
   "execution_count": 20,
   "id": "5a1166fd-9f1f-4c3b-8b93-d8ef6a98ee6e",
   "metadata": {},
   "outputs": [],
   "source": [
    "from sklearn.preprocessing import StandardScaler\n",
    "\n",
    "scaler = StandardScaler()\n",
    "df[['sensor_id','lat','lon','pressure','temperature','humidity']] = scaler.fit_transform(df[['sensor_id','lat','lon','pressure','temperature','humidity']])\n",
    "\n",
    "## Defining X & Y\n",
    "x = df.drop('temperature',axis = 1)\n",
    "y = df['temperature']\n",
    "\n",
    "# Train-test split\n",
    "x_train,x_test,y_train,y_test = train_test_split(x,y,train_size = 0.8)"
   ]
  },
  {
   "cell_type": "markdown",
   "id": "ed36023b-2177-4fb1-97ec-183ddf72e7f4",
   "metadata": {},
   "source": [
    "## Model Training"
   ]
  },
  {
   "cell_type": "code",
   "execution_count": 21,
   "id": "4b2b6989-f604-4fe1-a9c2-bf854339f9f6",
   "metadata": {},
   "outputs": [],
   "source": [
    "# Polynomial Regression\n",
    "from sklearn.preprocessing import PolynomialFeatures\n",
    "from sklearn.pipeline import make_pipeline\n",
    "\n",
    "degree = 3\n",
    "model = make_pipeline(PolynomialFeatures(degree = degree),LinearRegression())\n",
    "\n",
    "model.fit(x_train,y_train)\n",
    "y_pred = model.predict(x_test)"
   ]
  },
  {
   "cell_type": "markdown",
   "id": "f0714114-4a17-4e5b-a3ac-bba3fd85b8f2",
   "metadata": {},
   "source": [
    "## Evaluation\n"
   ]
  },
  {
   "cell_type": "code",
   "execution_count": 22,
   "id": "3c8e2223-6621-4dd2-82a6-bdd6ed6e12ee",
   "metadata": {},
   "outputs": [
    {
     "name": "stdout",
     "output_type": "stream",
     "text": [
      "MSE: 0.04642943710590347\n",
      "R2: 0.9549192700601187\n"
     ]
    }
   ],
   "source": [
    "# Evaluate model performance\n",
    "mse = mean_squared_error(y_test,y_pred)\n",
    "print(\"MSE:\",mse)\n",
    "\n",
    "r2 =  r2_score(y_test,y_pred)\n",
    "print(\"R2:\",r2)"
   ]
  },
  {
   "cell_type": "markdown",
   "id": "79db46d8-a909-46e8-ba44-451a362f4633",
   "metadata": {},
   "source": [
    "## Conclusion\n",
    "- A simple linear regression model was used to predict temperature from humidity.  \n",
    "- Consider using polynomial regression or time-series models for more complex patterns.\n"
   ]
  },
  {
   "cell_type": "code",
   "execution_count": null,
   "id": "1945b934-d864-4c8d-a424-def6d399e693",
   "metadata": {},
   "outputs": [],
   "source": []
  }
 ],
 "metadata": {
  "kernelspec": {
   "display_name": "Python 3.13",
   "language": "python",
   "name": "python313"
  },
  "language_info": {
   "codemirror_mode": {
    "name": "ipython",
    "version": 3
   },
   "file_extension": ".py",
   "mimetype": "text/x-python",
   "name": "python",
   "nbconvert_exporter": "python",
   "pygments_lexer": "ipython3",
   "version": "3.13.3"
  }
 },
 "nbformat": 4,
 "nbformat_minor": 5
}
